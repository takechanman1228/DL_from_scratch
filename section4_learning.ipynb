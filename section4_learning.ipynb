{
 "cells": [
  {
   "cell_type": "markdown",
   "metadata": {},
   "source": [
    "- 特徴量+機械学習 => NNにより，人手の特徴量選択が不要に\n",
    "- NNの学習では，一つの指標により現在の性能の悪さを表す=損失関数\n",
    "- 損失関数の例\n",
    "    - 二乗和誤差\n",
    "        - “英語版 Wikipedia の「Backpropagation」　The algorithm の節より: The factor of 1/2 conveniently cancels the exponent when the error function is subsequently differentiated.”\n",
    "            \n",
    "    - 交差エントロピー\n",
    "    \n",
    "- 4.2.3ミニバッチ学習\n",
    "    - 訓練データからランダムに選ばれた小さな集まりであるミニバッチを取り出し、ミニバッチごとに学習を行う\n",
    "    - 全体の訓練データのおおよその近似として，ミニバッチで代替する\n",
    "    \n",
    "- 4.2.5 なぜ損失関数が必要なのか?認識精度ではだめなのか?\n",
    "    - NNでは，パラメータの微分(勾配)をもとにパラメータを更新する\n",
    "    - 認識精度を指標にすると、パラメータの微分がほとんどの場所で0になってしまう\n",
    "    - 認識精度はパラメータの微小な変化にほとんど反応をしめさず，反応があっても不連続に変化する"
   ]
  },
  {
   "cell_type": "markdown",
   "metadata": {},
   "source": [
    "4.3\n",
    "- 数値微分:微笑な差分によって微分を求める\n",
    "    - (f(x+h) - f(x-h)) / (2*h)\n",
    "- 解析的な微分\n",
    "    - 数式を展開して真の微分値を求める\n",
    "    \n",
    "4.4\n",
    "- 全ての変数の偏微分をベクトルとしてまとめたものを勾配という\n",
    "- 最適なパラメータは，損失関数が最小値をとるとき\n",
    "    - しかしパラメータ空間は広大\n",
    "    - なので勾配を利用する\n",
    "    \n",
    "- 勾配法を用いる\n",
    "    - 最小値を探す場合-> 勾配降下法\n",
    "    - 最大値を探す場合->勾配上昇法\n",
    "- 更新の量を学習率という\n",
    "    - NNでは，学習率がハイパーパラメータであり，学習率の値を変更しながらガ正しく学習できているかを確認する\n",
    "- 確率的勾配降下法(Stochastic Gradient Descent)\n",
    "    - 無作為に選び出したデータに対して行う勾配降下法\n",
    "- エポック＝学習において訓練データを全て使い切ったときの回数"
   ]
  },
  {
   "cell_type": "code",
   "execution_count": null,
   "metadata": {
    "collapsed": true
   },
   "outputs": [],
   "source": []
  }
 ],
 "metadata": {
  "anaconda-cloud": {},
  "kernelspec": {
   "display_name": "Python [Root]",
   "language": "python",
   "name": "Python [Root]"
  },
  "language_info": {
   "codemirror_mode": {
    "name": "ipython",
    "version": 3
   },
   "file_extension": ".py",
   "mimetype": "text/x-python",
   "name": "python",
   "nbconvert_exporter": "python",
   "pygments_lexer": "ipython3",
   "version": "3.5.1"
  }
 },
 "nbformat": 4,
 "nbformat_minor": 0
}
